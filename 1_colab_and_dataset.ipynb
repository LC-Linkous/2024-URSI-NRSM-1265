{
  "nbformat": 4,
  "nbformat_minor": 0,
  "metadata": {
    "colab": {
      "provenance": []
    },
    "kernelspec": {
      "name": "python3",
      "display_name": "Python 3"
    },
    "language_info": {
      "name": "python"
    }
  },
  "cells": [
    {
      "cell_type": "markdown",
      "source": [
        "Tutorial 1: Colab and the Dataset\n",
        "\n",
        "This document acts as an explanation for the dataset and how to use Google Colab and Jupyter Notebook to manipulate data for machine learning.\n",
        "\n",
        "If you have never used Google Colab, it is relatively easy to set up and use with a Google account. An introduction and tutorials can be found at https://colab.research.google.com/?utm_source=scs-index\n",
        "\n",
        "\n",
        "A full explanation for Jupyter Notebook can be found on the main page at https://jupyter.org/ It is not necessary to use Jupyter, any python IDE will work, but there are several benefits to using Google Colab and Jupyter together.\n",
        "\n",
        "\n",
        "1.   Remote resources for GPU/CPU through Google Colab. You can utlize the 'hosted runtime' feature to use remote GPU or CPU for data processing if your local machine cannot handle dataset sizes or training. This is free, but does have time limits and memory limits.\n",
        "    1.  https://www.geeksforgeeks.org/how-to-use-gpu-in-google-colab/\n",
        "    2.  https://www.tutorialspoint.com/google_colab/google_colab_using_free_gpu.htm\n",
        "\n",
        "\n",
        "2.   Consistent environment. Rather than focusing on how to set up an IDE on a variety of systems, we can just straight into the dataset and machine learning approaches.\n",
        "\n",
        "3. Ability to re-run cells, correct errors, or install libraries without restarting the entire program. If you run into an error, or need a library installed, update the code and re-run the cell.\n",
        "\n"
      ],
      "metadata": {
        "id": "S9o3yzL3XLf-"
      }
    },
    {
      "cell_type": "markdown",
      "source": [
        "In Google Colab, you can mount your Google Drive to access and manipulate files stored in it.\n",
        "\n",
        "You can either mount the drive manually, or execute the code below.\n",
        "\n",
        "Adding manually:\n",
        "1. Open a new or existing Colab notebook.\n",
        "2. Click on the left-hand side of the screen to reveal the sidebar.\n",
        "3. Click on the \"Files\" tab in the sidebar.\n",
        "4. Click on the \"Mount Drive\" opion icon."
      ],
      "metadata": {
        "id": "-lDyZk1z9FGe"
      }
    },
    {
      "cell_type": "code",
      "execution_count": 1,
      "metadata": {
        "id": "Jn2Ot7GeR9ul",
        "colab": {
          "base_uri": "https://localhost:8080/"
        },
        "outputId": "39585872-3016-49a3-cd93-15b4331c8a60"
      },
      "outputs": [
        {
          "output_type": "stream",
          "name": "stdout",
          "text": [
            "Mounted at /content/drive\n"
          ]
        }
      ],
      "source": [
        "# code for mounting the Google drive - remove this if running locally\n",
        "from google.colab import drive\n",
        "drive.mount('/content/drive')"
      ]
    },
    {
      "cell_type": "markdown",
      "source": [
        "Import the libraries"
      ],
      "metadata": {
        "id": "_hHUfDJV-QVY"
      }
    },
    {
      "cell_type": "code",
      "source": [
        "# for data and number manipulation\n",
        "import pandas as pd\n",
        "import numpy as np\n",
        "\n",
        "# for visualization of data\n",
        "import matplotlib.pyplot as plt\n",
        "\n"
      ],
      "metadata": {
        "id": "UNNO2akUH8OV"
      },
      "execution_count": 2,
      "outputs": []
    },
    {
      "cell_type": "markdown",
      "source": [
        "There is one, cleaned dataset included in the repository. These data have been sampled from the larger AntennaCAT set for the purpose of demonstration of machine learning techniques. The set is unbalanced, with 2 classes having ~10k samples, and the third having ~7k.\n",
        "\n",
        "Data in these sets are all simulated with copper ground planes, copper conductors, and with FR4 substrate (permitivity: 4.4). The first row in the csv file is the labels for each columns. Every row after that is data from one simulation.\n",
        "\n",
        "In 'colab_dataset_microstrip', there are 27026 simulation entries with 13 columns.  The microstrip width is held constant at 3 mm for a 50 ohm impedence match. The gap between the strip and the patch is held constant at 1 mm.\n",
        "\n",
        "1. \"target_freq\": the target design frequency in Hz. There are 3 frequencies (classes): 1.5 GHz, 2.4 GHz, 5.8 GHz.\n",
        "2. \"\\$width\": the width of the patch in mm.\n",
        "3. \"\\$length\": the length of the patch in mm.\n",
        "4. \"\\$depth\": the depth of the substrate in mm.\n",
        "5. \"\\$ground_plane\": the value in mm for the length and width of the ground plane square.\n",
        "6. \"\\$x_0\": the notch depth/feed point of the patch in mm.\n",
        "7. \"max_total_gain\": maximum total simulated gain in dB.\n",
        "8. \"max_total_directivity\": maximum total simulated directivity in dB.\n",
        "9. \"min_s11_f\": the frequency for the lowest return loss value in dB (does not need to be the target frequency). This is not necessarily the target or local resonance.\n",
        "10. \"min_s11_dB\": the lowest return loss value in dB for the frequency above.\n",
        "11. \"s11_at_target\": the value of the return loss at the target frequency in dB.\n",
        "12. \"local_resonance_f\": the frequency of the closest resonance to the target resonance in Hz.\n",
        "13. \"local_resonance_dB\": the return loss of the local resonance in dB.\n",
        "\n"
      ],
      "metadata": {
        "id": "YJmfnior-WCQ"
      }
    },
    {
      "cell_type": "code",
      "source": [
        "# an example path for google sheets. replace with your file location\n",
        "filepath = \"/content/drive/MyDrive/2024-URSI/colab_dataset_microstrip.csv\"\n",
        "\n",
        "# read in the file as 'dataset'\n",
        "dataset = pd.read_csv(filepath)"
      ],
      "metadata": {
        "id": "0xKa88IW--92"
      },
      "execution_count": 4,
      "outputs": []
    },
    {
      "cell_type": "code",
      "source": [
        "# preview first 5 lines\n",
        "print(dataset.head(5))"
      ],
      "metadata": {
        "colab": {
          "base_uri": "https://localhost:8080/"
        },
        "id": "LmjmJfLbNydt",
        "outputId": "c6222438-94e8-4bb4-e8e8-d039275280d7"
      },
      "execution_count": 5,
      "outputs": [
        {
          "output_type": "stream",
          "name": "stdout",
          "text": [
            "   target_freq  $width  $length  $depth  $ground_plane  $x_0  max_total_gain  \\\n",
            "0   1500000000    55.0     37.0     1.6             74   1.0        0.810812   \n",
            "1   1500000000    55.0     37.0     1.6             74   1.0        0.783770   \n",
            "2   1500000000    55.0     37.0     1.6             74   1.0        0.910191   \n",
            "3   1500000000    55.0     37.0     1.6             74   1.0        0.774124   \n",
            "4   1500000000    55.0     37.0     1.6             74   1.0        0.825662   \n",
            "\n",
            "   max_total_directivity     min_s11_f  min_s11_dB  s11_at_target  \\\n",
            "0                6.34188  2.503200e+09  -16.425742      -0.586875   \n",
            "1                6.36314  2.507800e+09  -16.487843      -0.594788   \n",
            "2                6.35023  2.519300e+09  -18.124388      -0.590138   \n",
            "3                6.35062  2.496300e+09  -16.620786      -0.573468   \n",
            "4                6.38758  2.514700e+09  -20.023111      -0.573004   \n",
            "\n",
            "   local_resonance_f  local_resonance_dB  \n",
            "0       1.804000e+09          -11.764573  \n",
            "1       1.806300e+09          -12.180954  \n",
            "2       1.794800e+09          -12.253823  \n",
            "3       1.799400e+09          -13.677238  \n",
            "4       1.806300e+09          -12.760770  \n"
          ]
        }
      ]
    },
    {
      "cell_type": "code",
      "source": [
        "# print the featuers and the labels\n",
        "print(list(dataset.columns))"
      ],
      "metadata": {
        "colab": {
          "base_uri": "https://localhost:8080/"
        },
        "id": "dCXCyFaMOvJ4",
        "outputId": "699c9250-7d0a-4dcc-837b-9b0f1b5a03b4"
      },
      "execution_count": 6,
      "outputs": [
        {
          "output_type": "stream",
          "name": "stdout",
          "text": [
            "['target_freq', '$width', '$length', '$depth', '$ground_plane', '$x_0', 'max_total_gain', 'max_total_directivity', 'min_s11_f', 'min_s11_dB', 's11_at_target', 'local_resonance_f', 'local_resonance_dB']\n"
          ]
        }
      ]
    },
    {
      "cell_type": "code",
      "source": [
        "# print the shape of the dataset.\n",
        "# In this example, the first number (the rows) is the number of simulations that\n",
        "# were run, and the second number is the features (the data that was logged)\n",
        "print(dataset.shape)"
      ],
      "metadata": {
        "colab": {
          "base_uri": "https://localhost:8080/"
        },
        "id": "ihChW99tO_l4",
        "outputId": "086bc5ed-88b2-4dd2-e3ae-77f0f24ae78a"
      },
      "execution_count": 7,
      "outputs": [
        {
          "output_type": "stream",
          "name": "stdout",
          "text": [
            "(27026, 13)\n"
          ]
        }
      ]
    },
    {
      "cell_type": "markdown",
      "source": [
        "Use column labels to pull data from the dataframe"
      ],
      "metadata": {
        "id": "JTRF3iykTZ75"
      }
    },
    {
      "cell_type": "code",
      "source": [
        "# extract 'local_resonance_f' column from the dataframe and convert to a numpy array.\n",
        "# these labels are already numeric, so there is no need to convert from a string\n",
        "# to a surrogate value for classification\n",
        "targets = dataset['local_resonance_f'].to_numpy()\n",
        "print(targets)  # print the numpy array\n",
        "print(type(targets[0])) # print the TYPE of the value at index 0 (the first index)"
      ],
      "metadata": {
        "colab": {
          "base_uri": "https://localhost:8080/"
        },
        "id": "QA45SY5zTabo",
        "outputId": "7a5ea12b-9990-4be5-a11b-ae871b53be06"
      },
      "execution_count": 8,
      "outputs": [
        {
          "output_type": "stream",
          "name": "stdout",
          "text": [
            "[1.804000e+09 1.806300e+09 1.794800e+09 ... 6.752000e+09 6.617040e+09\n",
            " 6.765496e+09]\n",
            "<class 'numpy.float64'>\n"
          ]
        }
      ]
    },
    {
      "cell_type": "markdown",
      "source": [
        "Select parameters will be used to train models. Not all data collection may be relevant to what you want to LEARN from a model, so be selective.\n"
      ],
      "metadata": {
        "id": "bZxkYTd4UtkV"
      }
    },
    {
      "cell_type": "code",
      "source": [
        "# Select parameters by name and zip together.\n",
        "w = dataset['$width'].to_numpy()\n",
        "l = dataset['$length'].to_numpy()\n",
        "d = dataset['$depth'].to_numpy()\n",
        "gp = dataset['$ground_plane'].to_numpy()\n",
        "x0 = dataset['$x_0'].to_numpy()\n",
        "\n",
        "# print data and class\n",
        "print(w)\n",
        "print(type(w))\n",
        "\n",
        "# zip into 2D array.\n",
        "zippedData = np.dstack((w, l, d, gp, x0))\n",
        "exData = zippedData[0]\n",
        "print(exData)\n",
        "print(exData[0])\n"
      ],
      "metadata": {
        "colab": {
          "base_uri": "https://localhost:8080/"
        },
        "id": "7j-pVpiCv2D6",
        "outputId": "37e87a40-b6af-4e29-efd4-e21f51df3a57"
      },
      "execution_count": 9,
      "outputs": [
        {
          "output_type": "stream",
          "name": "stdout",
          "text": [
            "[55.  55.  55.  ... 19.5 19.5 19.5]\n",
            "<class 'numpy.ndarray'>\n",
            "[[55.   37.    1.6  74.    1.  ]\n",
            " [55.   37.    1.6  74.    1.  ]\n",
            " [55.   37.    1.6  74.    1.  ]\n",
            " ...\n",
            " [19.5  15.5   1.6  31.    2.75]\n",
            " [19.5  15.5   1.6  31.    2.75]\n",
            " [19.5  15.5   1.6  31.    2.75]]\n",
            "[55.  37.   1.6 74.   1. ]\n"
          ]
        }
      ]
    },
    {
      "cell_type": "markdown",
      "source": [
        "Plot data for visualization"
      ],
      "metadata": {
        "id": "uXSQPrj-3qAO"
      }
    },
    {
      "cell_type": "code",
      "source": [
        "\n",
        "# linear spacing from 0 to the length of w, with w elements\n",
        "x_ax = np.linspace(0, len(w), len(w))\n",
        "plt.scatter(x_ax, w/l)\n",
        "plt.title(\"W/L ratio of collected data\")\n",
        "\n",
        "# NOTE: this trend is prevalent due to how the data was collected. This is showing the spread of ALL of the w/l values.\n",
        "# the 'crop row' lines are caused because of the parameter sweep\n",
        "# however, there are relations that can be extracted with the length and width ratio, which is shown in the following tutorials"
      ],
      "metadata": {
        "colab": {
          "base_uri": "https://localhost:8080/",
          "height": 470
        },
        "id": "LyRdr_lP3r1a",
        "outputId": "93f5d12f-dfd5-4bee-aec3-7aeb2ed76ded"
      },
      "execution_count": 23,
      "outputs": [
        {
          "output_type": "execute_result",
          "data": {
            "text/plain": [
              "Text(0.5, 1.0, 'W/L ratio of collected data')"
            ]
          },
          "metadata": {},
          "execution_count": 23
        },
        {
          "output_type": "display_data",
          "data": {
            "text/plain": [
              "<Figure size 640x480 with 1 Axes>"
            ],
            "image/png": "[encoded data removed]"
          },
          "metadata": {}
        }
      ]
    }
  ]
}