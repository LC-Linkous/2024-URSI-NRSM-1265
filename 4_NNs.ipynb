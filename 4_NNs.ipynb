{
  "nbformat": 4,
  "nbformat_minor": 0,
  "metadata": {
    "colab": {
      "provenance": []
    },
    "kernelspec": {
      "name": "python3",
      "display_name": "Python 3"
    },
    "language_info": {
      "name": "python"
    }
  },
  "cells": [
    {
      "cell_type": "markdown",
      "source": [
        "**Tutorial 4** : Neural Networks\n",
        "\n",
        "Using data and example filters from the last tutorial, here several basic Neural Networks (NNs) are used to classify the data into different categories. Not all parameter combinations result in valid antenna designs, and the applied filters check minimal conditions to keep the tutorials brief.\n",
        "\n",
        "NNs are a group of machine learning models inspired (and named after) the human brain. They have layers of interconnected nodes (neurons) that activate when set conditions are met. These networks are designed to recognize patterns. NNs have a training stage in order to train this pattern recognition.\n",
        "\n",
        "NNS can be used in both supervised and unsupervised learning, depending on what task they are being applied to. In supervised learning, the NN is trained on labeled data (such as our data set) and the network learns to map inputs to specific outputs. During the supervised training process, the network makes predictions (the output) and compares these predictions to the labels (known 'ground truth' values). The error between the prediction and the labels are used to adjust weights (connections between layers and nodes). This is called backpropagation.\n",
        "\n",
        "In unsupervised learning, the NN is trained on unlabeled data (or the labels are ignored) in order to find clusters or other relations between data.\n",
        "\n",
        "<br>\n",
        "<br>\n",
        "\n",
        "There are 3 key components to structuring a neural network:\n",
        "\n",
        "1) **The input layer**. This is where the input data is fed into the network. Each node is a feature of the input data.\n",
        "\n",
        "2) **The hidden layer(s)**. NNs need at least one hidden, middle layer. This is the layer that process the data from the input layer and learn the patterns linked to identification in the output layer. There are different techniques to create the hidden layers, some of which will be discussed in this tutorial. Others are linked in the references.\n",
        "\n",
        "3) **The output layer**. This is how the network produces its prediction. The prediction can be, for example, a class identifier (predicted antenna frequency) or a numerical value (predicted width). Even with highly accurate models, these outputs are called **predictions**.\n",
        "\n",
        "<br><br>\n",
        "\n",
        "In this tutorial series, several operations are performed using the W/L ratio of the rectangular patch. This is used as a shortcut for normalizing length and width parameters between frequencies for comparison. Data processing, filtering, and ML training does not need to use this as a standard.\n",
        "\n",
        "While some preprocessing is necessary for machine learning in order to format data, this level of processing is not always needed. Typically, preprocessing must remove or handle missing data (NaNs, missing entries, improperly recorded data). For cleaner results, outliers should be detected and removed (especially in small sets), and some normalization may be needed depending on the data format. NNS tend to work better when data is normalized, especially when there is a large range of feature values. For instance, if one feature ranges from 0 to 0.5, while other features range from 0 to 500, then this may cause the smaller feature to be overshadowed in the training.\n",
        "\n",
        "\n",
        "Demonstrated below are the following tasks:\n",
        "\n",
        "* Importing the data from a .csv into a pandas dataframe\n",
        "* Checking the dataframe for NAN or empty values\n",
        "* Reading columns in the dataframe into a variable\n",
        "* Filtering:\n",
        "  * Removing rows with gain below a specific threshold\n",
        "  * Removing rows with return loss above a specific threshold\n",
        "  * Setting class labels based on target frequency values\n",
        "* Neural Networks with supervised learning to predict target frequency based on width, length, and gain\n",
        "  * One hidden layer\n",
        "  * Multiple hidden layers\n",
        "  * Confusion and accuracy testing\n",
        "\n",
        "\n",
        "\n"
      ],
      "metadata": {
        "id": "S9o3yzL3XLf-"
      }
    },
    {
      "cell_type": "markdown",
      "source": [
        "In Google Colab, you can mount your Google Drive to access and manipulate files stored in it.\n",
        "\n",
        "You can either mount the drive manually, or execute the code below.\n",
        "\n",
        "Adding manually:\n",
        "1. Open a new or existing Colab notebook.\n",
        "2. Click on the left-hand side of the screen to reveal the sidebar.\n",
        "3. Click on the \"Files\" tab in the sidebar.\n",
        "4. Click on the \"Mount Drive\" opion icon."
      ],
      "metadata": {
        "id": "-lDyZk1z9FGe"
      }
    },
    {
      "cell_type": "code",
      "execution_count": null,
      "metadata": {
        "id": "Jn2Ot7GeR9ul",
        "colab": {
          "base_uri": "https://localhost:8080/"
        },
        "outputId": "66a3a37c-7887-44f3-898d-24e5e13567ff"
      },
      "outputs": [
        {
          "output_type": "stream",
          "name": "stdout",
          "text": [
            "Mounted at /content/drive\n"
          ]
        }
      ],
      "source": [
        "# code for mounting the Google drive - remove this if running locally\n",
        "from google.colab import drive\n",
        "drive.mount('/content/drive')"
      ]
    },
    {
      "cell_type": "markdown",
      "source": [
        "Import the libraries"
      ],
      "metadata": {
        "id": "_hHUfDJV-QVY"
      }
    },
    {
      "cell_type": "code",
      "source": [
        "# for data and number manipulation\n",
        "import pandas as pd\n",
        "import numpy as np\n",
        "\n",
        "# for visualization of data\n",
        "import matplotlib.pyplot as plt\n"
      ],
      "metadata": {
        "id": "UNNO2akUH8OV"
      },
      "execution_count": null,
      "outputs": []
    },
    {
      "cell_type": "markdown",
      "source": [
        "There is one, cleaned dataset included in the repository. These data have been sampled from the larger AntennaCAT set for the purpose of demonstration of machine learning techniques. The set is unbalanced, with 2 classes having ~10k samples, and the third having ~7k.\n",
        "\n",
        "Data in these sets are all simulated with copper ground planes, copper conductors, and with FR4 substrate (permittivity: 4.4). The first row in the csv file is the labels for each column. Every row after that is data from one simulation.\n",
        "\n",
        "In 'colab_dataset_microstrip', there are 27026 simulation entries with 13 columns.  The microstrip width is held constant at 3 mm for a 50 ohm impedance match. The gap between the strip and the patch is held constant at 1 mm.\n",
        "\n",
        "1. \"target_freq\": the target design frequency in Hz. There are 3 frequencies (classes): 1.5 GHz, 2.4 GHz, 5.8 GHz.\n",
        "2. \"\\$width\": the width of the patch in mm.\n",
        "3. \"\\$length\": the length of the patch in mm.\n",
        "4. \"\\$depth\": the depth of the substrate in mm.\n",
        "5. \"\\$ground_plane\": the value in mm for the length and width of the ground plane square.\n",
        "6. \"\\$x_0\": the notch depth/feed point of the patch in mm.\n",
        "7. \"max_total_gain\": maximum total simulated gain in dB.\n",
        "8. \"max_total_directivity\": maximum total simulated directivity in dB.\n",
        "9. \"min_s11_f\": the frequency for the lowest return loss value in dB (does not need to be the target frequency). This is not necessarily the target or local resonance.\n",
        "10. \"min_s11_dB\": the lowest return loss value in dB for the frequency above.\n",
        "11. \"s11_at_target\": the value of the return loss at the target frequency in dB.\n",
        "12. \"local_resonance_f\": the frequency of the closest resonance to the target resonance in Hz.\n",
        "13. \"local_resonance_dB\": the return loss of the local resonance in dB.\n",
        "\n",
        "\n"
      ],
      "metadata": {
        "id": "YJmfnior-WCQ"
      }
    },
    {
      "cell_type": "code",
      "source": [
        "# an example path for google sheets. replace with your file location\n",
        "filepath = \"/content/drive/MyDrive/2024-URSI/colab_dataset_microstrip.csv\"\n",
        "\n",
        "# read in the file as 'dataset'\n",
        "dataset = pd.read_csv(filepath)"
      ],
      "metadata": {
        "id": "0xKa88IW--92"
      },
      "execution_count": null,
      "outputs": []
    },
    {
      "cell_type": "markdown",
      "source": [
        "Simulations were run based on a parameter sweep, so not all simulations result in a valid design. The automated simulation process did not filter out invalid designs.\n",
        "\n",
        "Below, two types of filters are applied as an example. The gain and return loss are used to remove a majority of the dataset. Without further filtering, it is not a guarantee that the remaining simulations are valid antenna designs (e.g., efficiency is not considered).\n"
      ],
      "metadata": {
        "id": "spZ5K-uA2f05"
      }
    },
    {
      "cell_type": "code",
      "source": [
        "# get a unique list of the frequency values, these will be used to create the class labels\n",
        "UniqueNames = dataset.target_freq.unique()\n",
        "print(UniqueNames)"
      ],
      "metadata": {
        "colab": {
          "base_uri": "https://localhost:8080/"
        },
        "id": "XYUmjJ0j7QRe",
        "outputId": "c5f2b802-2f81-478c-ce60-fa8aea316474"
      },
      "execution_count": null,
      "outputs": [
        {
          "output_type": "stream",
          "name": "stdout",
          "text": [
            "[1500000000 2400000000 5800000000]\n"
          ]
        }
      ]
    },
    {
      "cell_type": "code",
      "source": [
        "# filtering the dataset to remove designs with poor gain\n",
        "\n",
        "threshold_1500MHz = 2 #2dB minimum gain\n",
        "threshold_2400MHz = 2 #2dB minimum gain\n",
        "threshold_5800MHz = 3 #3dB minimum gain\n",
        "\n",
        "returnLossdB = -10 #IEEE standard dB, 90% power transmission\n",
        "\n",
        "# use the unique names to split up the data by frequency value\n",
        "df1 = dataset[dataset['target_freq'] == 1500000000]\n",
        "df2 = dataset[dataset['target_freq'] == 2400000000 ]\n",
        "df3 = dataset[dataset['target_freq'] == 5800000000]\n",
        "\n",
        "# use the threshold values to filter data by gain\n",
        "df1_filtered = df1[df1['max_total_gain'] >= threshold_1500MHz]\n",
        "df2_filtered = df2[df2['max_total_gain'] >= threshold_2400MHz ]\n",
        "df3_filtered = df3[df3['max_total_gain'] >= threshold_5800MHz]\n",
        "\n",
        "# use the threshold values to filter data by return loss\n",
        "df1_filtered = df1_filtered[df1_filtered['s11_at_target'] <= returnLossdB]\n",
        "df2_filtered = df2_filtered[df2_filtered['s11_at_target'] <= returnLossdB ]\n",
        "df3_filtered = df3_filtered[df3_filtered['s11_at_target'] <= returnLossdB]\n",
        "\n",
        "# print the length of the three dataframes\n",
        "print(len(df1_filtered))\n",
        "print(len(df2_filtered))\n",
        "print(len(df3_filtered))\n",
        "\n",
        "# split the data to make graphing easier\n",
        "df1_w = df1_filtered['$width'].to_numpy()\n",
        "df1_l = df1_filtered['$length'].to_numpy()\n",
        "df1_s11 = df1_filtered['s11_at_target'].to_numpy() # return loss in (negative) dB at target frequency\n",
        "df1_maxGain = df1_filtered['max_total_gain'].to_numpy()\n",
        "\n",
        "df2_w = df2_filtered['$width'].to_numpy()\n",
        "df2_l = df2_filtered['$length'].to_numpy()\n",
        "df2_s11 = df2_filtered['s11_at_target'].to_numpy() # return loss in (negative) dB at target frequency\n",
        "df2_maxGain = df2_filtered['max_total_gain'].to_numpy()\n",
        "\n",
        "df3_w = df3_filtered['$width'].to_numpy()\n",
        "df3_l = df3_filtered['$length'].to_numpy()\n",
        "df3_s11 = df3_filtered['s11_at_target'].to_numpy() # return loss in (negative) dB at target frequency\n",
        "df3_maxGain = df3_filtered['max_total_gain'].to_numpy()\n"
      ],
      "metadata": {
        "colab": {
          "base_uri": "https://localhost:8080/"
        },
        "id": "le7Zy6vJyZhz",
        "outputId": "84e8cf30-b0e6-4f0d-ca01-a942be26ae29"
      },
      "execution_count": null,
      "outputs": [
        {
          "output_type": "stream",
          "name": "stdout",
          "text": [
            "328\n",
            "250\n",
            "291\n"
          ]
        }
      ]
    },
    {
      "cell_type": "markdown",
      "source": [
        "The code blocks below create the following graphs from the last tutorial:\n",
        "  * Frequency (classes labeled) vs. return loss at target (dB)\n",
        "  * W/L (classes labeled) vs. max total gain (dB)\n",
        "\n",
        "\n",
        "In the first graph, note that the data is not linearly separable. That is, a large amount of the data clusters overlap in a way that is not possible to separate with the plotted information.\n",
        "\n",
        "However, the data in the second graph is linearly separable.\n"
      ],
      "metadata": {
        "id": "Vz32CSMjz3U8"
      }
    },
    {
      "cell_type": "code",
      "source": [
        "# graph each class with a different color on the same plot\n",
        "plt.scatter(df1_w/df1_l, df1_s11)\n",
        "plt.scatter(df2_w/df2_l, df2_s11)\n",
        "plt.scatter(df3_w/df3_l, df3_s11)\n",
        "\n",
        "plt.title(\"W/L ratio vs. max total gain\")\n",
        "plt.xlabel(\"W/L ratio\")\n",
        "plt.ylabel(\"gain (dB)\")\n",
        "plt.legend(['1.5 GHz', '2.4 GHz', '5.8 Ghz'])\n"
      ],
      "metadata": {
        "colab": {
          "base_uri": "https://localhost:8080/",
          "height": 490
        },
        "id": "VQsw1emy0W4q",
        "outputId": "2fe9b26a-961b-44eb-ed77-a0839a28fc03"
      },
      "execution_count": null,
      "outputs": [
        {
          "output_type": "execute_result",
          "data": {
            "text/plain": [
              "<matplotlib.legend.Legend at 0x7efee48677f0>"
            ]
          },
          "metadata": {},
          "execution_count": 6
        },
        {
          "output_type": "display_data",
          "data": {
            "text/plain": [
              "<Figure size 640x480 with 1 Axes>"
            ],
            "image/png": "[encoded data removed]"
          },
          "metadata": {}
        }
      ]
    },
    {
      "cell_type": "code",
      "source": [
        "# W/L (classes labeled) vs. max total gain (dB)\n",
        "plt.scatter(df1_w/df1_l, df1_maxGain)\n",
        "plt.scatter(df2_w/df2_l, df2_maxGain)\n",
        "plt.scatter(df3_w/df3_l, df3_maxGain)\n",
        "plt.title(\"W/L ratio vs. max total gain\")\n",
        "plt.xlabel(\"W/L ratio\")\n",
        "plt.ylabel(\"max total gain (dB)\")\n",
        "plt.legend(['1.5 GHz', '2.4 GHz', '5.8 Ghz'])"
      ],
      "metadata": {
        "colab": {
          "base_uri": "https://localhost:8080/",
          "height": 490
        },
        "id": "TEpS7mtG0XL8",
        "outputId": "5eb9c2ba-3e62-431f-ff94-0f1be9a87998"
      },
      "execution_count": null,
      "outputs": [
        {
          "output_type": "execute_result",
          "data": {
            "text/plain": [
              "<matplotlib.legend.Legend at 0x7eff2070e860>"
            ]
          },
          "metadata": {},
          "execution_count": 7
        },
        {
          "output_type": "display_data",
          "data": {
            "text/plain": [
              "<Figure size 640x480 with 1 Axes>"
            ],
            "image/png": "[encoded data removed]"
          },
          "metadata": {}
        }
      ]
    },
    {
      "cell_type": "markdown",
      "source": [
        "\n",
        "The following examples uses the singular case of W/L Ratio vs. Gain.\n",
        "\n",
        "Rather than using both examples from above, only the 'W/L Ratio vs. Gain' data is used because it is the one of the two that is linearly separable. This is was important in tutorial 3 because support vector machines (SVMs) aim to find the optimal hyperplane that separates data points into different classes with the largest possible margin, thereby maximizing the generalization ability of the model. In this tutorial, linear separability makes it possible to use lower-dimensional NNs in order to classify data. This is more important as an example than it is in practical use. However, it is important to recognize that for more complex problems, broader and deeper NNs may be necessary for any kind of classification.\n",
        "\n",
        "\n",
        "There are several important terms to know when experimenting with NNs.\n",
        "\n",
        "1. **Features**: Features are the individual characteristics of the data (e.g., W, L, f, h) used as input to a model. They represent the measured or known attributes that the NN can use to make predictions about the data.\n",
        "\n",
        "2. **Input**: The input refers to the data fed into a ML model or NN for processing. In supervised learning, inputs typically consist of the features of your data.\n",
        "\n",
        "3. **Training**:  Training is the process where a machine learning model learns from data by adjusting its parameters (such as weights in a neural network). During training, the model is provided with labeled data (input-output pairs), and it adjusts to minimize the error between its predictions and the actual outcomes (using algorithms like gradient descent).\n",
        "\n",
        "4. **Forward Propagation**:  Forward propagation is the process of passing input data through a neural network from the input layer to the output layer, layer by layer. In this process, the data is transformed by weights, biases, and activation functions to produce an output (or prediction). The NN model (or structure) is not updated at this step.\n",
        "\n",
        "5. **Weights**: Control how much influence each input has on the output. Each connection moving forward in the network has a weight. These weights control the influence of each connection between neurons.\n",
        "\n",
        "6. **Bias**: Bias values are generally optional. They are similar to weights, but rather than being a connection between neurons, they are a direct input to a neuron. These values add a numerical constant adjustment to the weighted sum of inputs.\n",
        "\n",
        "7. **Activation Function**: Each neuron has an activation function that decides if that neuron 'fires', or activated. If the input to the neuron is below the threshold needed for activation, then the neuron's output is a 0 (or other value that indicates the neuron was not activated). These also introduce non-linearity, enabling neural networks to learn complex patterns in data.\n",
        "\n",
        "8. **Predictions**: Predictions are the outputs generated by a model after processing the input data through the forward propagation process. In supervised learning, the predictions are the model’s estimated values or class labels for the given input. Even in highly accurate models, the output is referred to as a prediction as there is always a percentage of uncertainty for misclassification.\n",
        "\n",
        "9. **Backpropagation**: Backpropagation is a key technique used for training neural networks. It is the process of computing the loss function (or gradient of difference between prediction and label), with respect to the network’s weights and biases, and then updating those weights to minimize the error. It works by calculating the error at the output, then propagating it backward through the network to adjust the weights.\n",
        "\n",
        "\n"
      ],
      "metadata": {
        "id": "eRzXjgNY8e0j"
      }
    },
    {
      "cell_type": "markdown",
      "source": [
        "Below is a simplified example using numpy (NP) rather than a ML specific library. This is intended to contextualize several parts of a neural network in the definitions above before using the imported dataset.\n",
        "\n",
        "This example has an explicit activation function (a simple sigmoid) and uses a simple array of inputs with 3 features. The input and output have been hardcoded.\n",
        "\n"
      ],
      "metadata": {
        "id": "6GAW8yX5xERX"
      }
    },
    {
      "cell_type": "code",
      "source": [
        "import numpy as np\n",
        "\n",
        "# Activation function: Sigmoid\n",
        "def sigmoid(x):\n",
        "    return 1 / (1 + np.exp(-x))\n",
        "\n",
        "# Derivative of Sigmoid\n",
        "def sigmoid_derivative(x):\n",
        "    return x * (1 - x)\n",
        "\n",
        "\n",
        "\n",
        "# Example input (3 features) and output (1 target)\n",
        "# The input and output arrays have been split into 'inputs' and 'outputs'\n",
        "#   to make it clear how they are grouped\n",
        "\n",
        "# The input has 4 data points, with 3 features each.\n",
        "# We do not have an explicit label for these, but they could be:\n",
        "#   *  classifications (True/False)\n",
        "#   *  Normalized input\n",
        "#   *  Integer value entries\n",
        "inputs = np.array([[0, 0, 1],\n",
        "                   [1, 0, 1],\n",
        "                   [0, 1, 1],\n",
        "                   [1, 1, 1]])\n",
        "\n",
        "# True outputs for the dataset (Target)\n",
        "# These values are our 'target' values that we want the network to predict.\n",
        "# In some cases these could be numerical forms of classification labels, such\n",
        "# as splitting the data into 2 classes (0 and 1) to represent a string numerically.\n",
        "outputs = np.array([[0], [1], [1], [0]])\n",
        "\n",
        "# Number of neurons in each layer\n",
        "input_layer_size = 3  # 3 inputs. 1 input per feature we are using\n",
        "hidden_layer_size = 4 # 4 neurons in hidden layer\n",
        "output_layer_size = 1 # 1 output. 1 output per feature we are predicting\n",
        "\n",
        "# Initialize weights with random values\n",
        "np.random.seed(42)  # For reproducibility\n",
        "\n",
        "weights_input_hidden = np.random.rand(input_layer_size, hidden_layer_size)\n",
        "weights_hidden_output = np.random.rand(hidden_layer_size, output_layer_size)\n",
        "\n",
        "# Initialize biases\n",
        "bias_hidden = np.random.rand(1, hidden_layer_size)\n",
        "bias_output = np.random.rand(1, output_layer_size)\n",
        "\n",
        "# Learning rate\n",
        "# a float value used to control the learning rate,\n",
        "# which is the balance between the old and new training iteration\n",
        "learning_rate = 0.1\n",
        "\n",
        "# Training process (e.g., 10000 iterations)\n",
        "# an epoch is the number of training iterations.\n",
        "for epoch in range(10000):\n",
        "    # Forward pass\n",
        "    hidden_layer_input = np.dot(inputs, weights_input_hidden) + bias_hidden\n",
        "    hidden_layer_output = sigmoid(hidden_layer_input)\n",
        "\n",
        "    final_input = np.dot(hidden_layer_output, weights_hidden_output) + bias_output\n",
        "    final_output = sigmoid(final_input)\n",
        "\n",
        "    # Compute the error (Mean Squared Error)\n",
        "    error = outputs - final_output\n",
        "    loss = np.mean(np.square(error))\n",
        "\n",
        "    # Backpropagation\n",
        "    # Calculate gradients for output layer\n",
        "    output_error_term = error * sigmoid_derivative(final_output)\n",
        "\n",
        "    # Calculate gradients for hidden layer\n",
        "    hidden_error_term = output_error_term.dot(weights_hidden_output.T) * sigmoid_derivative(hidden_layer_output)\n",
        "\n",
        "    # Update weights and biases\n",
        "    weights_hidden_output += hidden_layer_output.T.dot(output_error_term) * learning_rate\n",
        "    bias_output += np.sum(output_error_term, axis=0, keepdims=True) * learning_rate\n",
        "\n",
        "    weights_input_hidden += inputs.T.dot(hidden_error_term) * learning_rate\n",
        "    bias_hidden += np.sum(hidden_error_term, axis=0, keepdims=True) * learning_rate\n",
        "\n",
        "    # Optionally print the loss every 1000 iterations to see progress\n",
        "    if epoch % 1000 == 0:\n",
        "        print(f\"Epoch {epoch}, Loss: {loss}\")\n",
        "\n",
        "# After training, print the final output\n",
        "print(\"Final output after training:\")\n",
        "print(final_output)\n",
        "\n",
        "#'''\n",
        "#The loss is calculated as the Mean Square Error (MSE), or average square of errors,\n",
        "#which is a common way of calculating the difference between prediction and target.\n",
        "#MSE is favored because it places less weight on outlier results.\n",
        "#\n",
        "#The final output after training is a float-value prediction. Depending on the bias,\n",
        "#number of epochs, and training results, it is likely between 0 and 1. The value can\n",
        "#be converted to an integer (0 or 1) to match the larget label, but this is a good example\n",
        "#of how prediction results may need to be interpreted from the output.\n",
        "#'''\n"
      ],
      "metadata": {
        "colab": {
          "base_uri": "https://localhost:8080/",
          "height": 355
        },
        "id": "Vz0SYM6ixDcQ",
        "outputId": "058d3a92-4a84-41c4-93da-6580f52630c6"
      },
      "execution_count": null,
      "outputs": [
        {
          "output_type": "stream",
          "name": "stdout",
          "text": [
            "Epoch 0, Loss: 0.3696963110374336\n",
            "Epoch 1000, Loss: 0.24928933798243053\n",
            "Epoch 2000, Loss: 0.2452316605639955\n",
            "Epoch 3000, Loss: 0.22062050475431488\n",
            "Epoch 4000, Loss: 0.1671990282942801\n",
            "Epoch 5000, Loss: 0.1443001412570027\n",
            "Epoch 6000, Loss: 0.13028950931599337\n",
            "Epoch 7000, Loss: 0.037815458003343405\n",
            "Epoch 8000, Loss: 0.015872929691147394\n",
            "Epoch 9000, Loss: 0.009423151474252359\n",
            "Final output after training:\n",
            "[[0.04906669]\n",
            " [0.91012516]\n",
            " [0.92632442]\n",
            " [0.10088989]]\n"
          ]
        },
        {
          "output_type": "execute_result",
          "data": {
            "text/plain": [
              "'\\nThe loss is calculated as the Mean Square Error (MSE), or average square of errors, \\nwhich is a common way of calculating the difference between prediction and target. \\nMSE is favored because it places less weight on outlier results. \\n\\nThe final output after training is a float-value prediction. Depending on the bias,\\nnumber of epochs, and training results, it is likely between 0 and 1. The value can\\nbe converted to an integer (0 or 1) to match the larget label, but this is a good example\\nof how prediction results may need to be interpreted from the output.\\n'"
            ],
            "application/vnd.google.colaboratory.intrinsic+json": {
              "type": "string"
            }
          },
          "metadata": {},
          "execution_count": 11
        }
      ]
    },
    {
      "cell_type": "markdown",
      "source": [
        "The next example uses a common machine learning focused library. This is NOT the only library, but it is a popular one at the time of this tutorial.\n",
        "\n",
        "\n",
        "<br>\n",
        "\n",
        "\n",
        "\n",
        "**Step 1**: Import the libraries that will be used in this example\n",
        "\n",
        "<br>\n",
        "In previous examples, these have been imported as needed, but the individual examples in this tutorial are shorter, so for clarity all of the imports needed are shown below.\n"
      ],
      "metadata": {
        "id": "p4w4zrbi8m15"
      }
    },
    {
      "cell_type": "code",
      "source": [
        " # A simple multi-layer perceptron neural network implementation in scikit-learn for classification tasks\n",
        "from sklearn.neural_network import MLPClassifier\n",
        "\n",
        "# The function for automating the data split\n",
        "# https://scikit-learn.org/stable/modules/generated/sklearn.model_selection.train_test_split.html\n",
        "from sklearn.model_selection import train_test_split\n",
        "\n",
        "# The functions used to evaluate how well the model performed\n",
        "from sklearn.metrics import accuracy_score\n",
        "from sklearn.metrics import confusion_matrix\n",
        "\n",
        "\n"
      ],
      "metadata": {
        "id": "9Bt6OLnx8mLV"
      },
      "execution_count": null,
      "outputs": []
    },
    {
      "cell_type": "markdown",
      "source": [
        "**Step 2**: Set up the data for the NN for W, L, and Gain as Input, and Target Resonant Frequency as output.\n",
        "\n",
        "<br>\n",
        "\n",
        "The data needs to be zipped together such that the input to the network is an array of arrays. Each of the inner arrays is a collection of the inputs to the NN.\n",
        "\n",
        "For the sake of demonstration, the data will be recombined with the following process:\n",
        "\n",
        "* INPUT DATA:\n",
        "  * Stack w, l, and the max total gain together\n",
        "\n",
        "* CLASSIFICATION:\n",
        "  * Convert the numerical target frequency to a numerical class label. While the target frequency values could technically be used as labels, it is more conventional to label in the form of class '1, 2, 3', than using irregularly spaced values (15000000000, 24000000000, 58000000000).\n"
      ],
      "metadata": {
        "id": "82CpJ3AF8rBa"
      }
    },
    {
      "cell_type": "code",
      "source": [
        "# setting up the input data\n",
        "# combine the 3 input params for each frequency\n",
        "df1_input = np.dstack((df1_w, df1_l, df1_maxGain))[0]\n",
        "\n",
        "df2_input = np.dstack((df2_w, df2_l, df2_maxGain))[0]\n",
        "\n",
        "df3_input = np.dstack((df3_w, df3_l, df3_maxGain))[0]\n",
        "\n",
        "# combine all three frequencies into one list of inputs\n",
        "df_input = np.concatenate((df1_input, df2_input, df3_input))\n",
        "\n",
        "\n",
        "print(len(df1_input))\n",
        "print(len(df2_input))\n",
        "print(len(df3_input))\n",
        "print(len(df_input))\n",
        "\n",
        "\n",
        "# print some samples\n",
        "print(df1_input[0])\n",
        "print(df1_input[10])\n",
        "print(df2_input[0])\n",
        "print(df2_input[10])\n",
        "print(df3_input[0])\n",
        "print(df3_input[10])\n",
        "\n"
      ],
      "metadata": {
        "colab": {
          "base_uri": "https://localhost:8080/"
        },
        "id": "sjqisF_WxsiS",
        "outputId": "24d04820-f4d4-406c-ab07-48bb2fdb366e"
      },
      "execution_count": null,
      "outputs": [
        {
          "output_type": "stream",
          "name": "stdout",
          "text": [
            "328\n",
            "250\n",
            "291\n",
            "869\n",
            "[55.      46.       2.05836]\n",
            "[55.      46.       2.03815]\n",
            "[32.      29.       3.10236]\n",
            "[33.      29.       3.12719]\n",
            "[14.      12.       4.71032]\n",
            "[15.5     11.5      5.03671]\n"
          ]
        }
      ]
    },
    {
      "cell_type": "code",
      "source": [
        "# setting up the output data\n",
        "# create arrays classification labels for the target frequencies\n",
        "df1_labels = [1] * len(df1_filtered) # class 1 = 1.5 GHz\n",
        "df2_labels = [2] * len(df2_filtered) # class 2 = 2.4 GHz\n",
        "df3_labels = [3] * len(df3_filtered) # class 3 = 5.8 GHz\n",
        "# combine all three frequencies into one list of labels\n",
        "df_labels = np.concatenate((df1_labels, df2_labels, df3_labels))\n",
        "\n",
        "\n",
        "print(len(df1_labels))\n",
        "print(len(df2_labels))\n",
        "print(len(df3_labels))\n",
        "print(len(df_labels))\n",
        "\n"
      ],
      "metadata": {
        "colab": {
          "base_uri": "https://localhost:8080/"
        },
        "id": "_I-8Dy1O8qjx",
        "outputId": "32935d73-946f-4115-adfc-6d6527cbb8b5"
      },
      "execution_count": null,
      "outputs": [
        {
          "output_type": "stream",
          "name": "stdout",
          "text": [
            "328\n",
            "250\n",
            "291\n",
            "869\n"
          ]
        }
      ]
    },
    {
      "cell_type": "markdown",
      "source": [
        "**Step 3**: Split the data into a 'train' set and a 'test' set to automate the validation process. Rather than testing the predictions on arbitrary values, this will allow for proper validation with known values.\n",
        "\n",
        "<br>\n",
        "The train_test_split() function takes in the combined input and output values. The test_size variable is a float between 0 and 1 that determines how much of the data is set aside for testing (validation). Setting a random_state value makes this example repeatable.\n"
      ],
      "metadata": {
        "id": "WS4jIleCRL2K"
      }
    },
    {
      "cell_type": "code",
      "source": [
        "# split the data from the previous examples into train and test\n",
        "# to keep the varaible names readable, the notation switches here from 'df_input' and 'df_labels'\n",
        "# to the more common 'X' and 'y', where 'X' denotes the input and 'y' is the labels\n",
        "X_train, X_test, y_train, y_test = train_test_split(df_input, df_labels, test_size=0.33, random_state=42)\n",
        "\n",
        "# print the sizes of the split\n",
        "print(len(X_train))\n",
        "print(len(y_train))\n",
        "print(len(X_test))\n",
        "print(len(y_test))\n",
        "\n",
        "# print the test set labels. note that they have been randomized\n",
        "print(y_test)"
      ],
      "metadata": {
        "id": "jy1qIhkOSoMl",
        "colab": {
          "base_uri": "https://localhost:8080/"
        },
        "outputId": "a59cd0d6-a6de-4479-ec9c-9477dc868754"
      },
      "execution_count": null,
      "outputs": [
        {
          "output_type": "stream",
          "name": "stdout",
          "text": [
            "582\n",
            "582\n",
            "287\n",
            "287\n",
            "[2 1 2 1 3 3 1 3 3 2 1 2 2 1 2 1 2 3 1 2 1 2 1 2 2 1 1 1 1 3 3 2 3 3 3 2 3\n",
            " 1 3 2 3 3 2 1 3 1 1 2 3 3 1 3 3 3 1 3 3 1 2 1 2 1 1 3 3 3 1 2 2 2 1 3 1 3\n",
            " 1 1 3 1 1 3 1 3 3 1 2 3 2 3 1 1 3 1 1 2 3 2 1 3 3 3 1 1 3 3 1 3 2 2 3 1 2\n",
            " 3 2 2 2 2 1 1 3 3 2 3 2 3 3 1 2 1 1 1 3 2 1 1 1 1 1 1 2 1 1 2 2 1 1 2 1 1\n",
            " 1 2 3 3 2 1 1 1 1 2 3 2 1 3 3 1 3 2 3 3 2 1 2 2 2 2 3 3 2 2 3 2 3 3 2 1 2\n",
            " 2 1 2 1 2 1 2 1 2 2 2 1 1 1 1 3 2 3 1 3 3 3 1 3 2 2 2 2 3 1 2 1 1 2 2 3 2\n",
            " 1 3 3 1 2 1 2 1 2 3 2 1 2 1 3 2 3 3 3 1 1 1 3 2 2 2 2 3 3 3 3 1 3 2 3 1 3\n",
            " 1 3 1 1 1 2 1 1 1 2 1 2 2 2 1 1 1 3 2 1 3 3 2 1 1 1 2 2]\n"
          ]
        }
      ]
    },
    {
      "cell_type": "markdown",
      "source": [
        "**Step 4**: Create a NN classifier using the MLPClassifier function\n",
        "\n",
        "\n",
        "<br>\n",
        "\n",
        "https://scikit-learn.org/stable/modules/generated/sklearn.neural_network.MLPClassifier.html\n",
        "\n",
        "\n",
        "The MLPClassifier() is named after the Multi-layer Perceptron (MLP) classifier. These were the earliest forms of artificial neurons. More information about this can be found in the references.\n",
        "\n",
        "\n",
        "<br>\n",
        "\n",
        "This is step is where the examples will differ. First, we will create a single hidden layer NN.\n"
      ],
      "metadata": {
        "id": "odIq4kFBUsHA"
      }
    },
    {
      "cell_type": "code",
      "source": [
        "# Create a neural network classifier (MLP)\n",
        "#  with 1 hidden layer and 5 neurons in that layer\n",
        "clf = MLPClassifier(hidden_layer_sizes=(5,), max_iter=1000, random_state=42)\n",
        "\n"
      ],
      "metadata": {
        "id": "xLNHxCadNTDl"
      },
      "execution_count": null,
      "outputs": []
    },
    {
      "cell_type": "markdown",
      "source": [
        "**Step 5**: Train the model with the training data\n",
        "\n",
        "<br>\n",
        "This version will have a warning about the model not converging. This is due to there only being 1 hidden layer. Increase the number of iterations if needed. On this example data it does not perform poorly with 1000."
      ],
      "metadata": {
        "id": "E3U-EeFRZWKu"
      }
    },
    {
      "cell_type": "code",
      "source": [
        "# Train the model\n",
        "clf.fit(X_train, y_train)\n"
      ],
      "metadata": {
        "colab": {
          "base_uri": "https://localhost:8080/",
          "height": 135
        },
        "id": "kXOIj0DJZWho",
        "outputId": "d4c3ddc4-352e-4750-87a9-7057503f0c35"
      },
      "execution_count": null,
      "outputs": [
        {
          "output_type": "stream",
          "name": "stderr",
          "text": [
            "/usr/local/lib/python3.10/dist-packages/sklearn/neural_network/_multilayer_perceptron.py:691: ConvergenceWarning: Stochastic Optimizer: Maximum iterations (1000) reached and the optimization hasn't converged yet.\n",
            "  warnings.warn(\n"
          ]
        },
        {
          "output_type": "execute_result",
          "data": {
            "text/plain": [
              "MLPClassifier(hidden_layer_sizes=(5,), max_iter=1000, random_state=42)"
            ],
            "text/html": [
              "<style>#sk-container-id-3 {\n",
              "  /* Definition of color scheme common for light and dark mode */\n",
              "  --sklearn-color-text: #000;\n",
              "  --sklearn-color-text-muted: #666;\n",
              "  --sklearn-color-line: gray;\n",
              "  /* Definition of color scheme for unfitted estimators */\n",
              "  --sklearn-color-unfitted-level-0: #fff5e6;\n",
              "  --sklearn-color-unfitted-level-1: #f6e4d2;\n",
              "  --sklearn-color-unfitted-level-2: #ffe0b3;\n",
              "  --sklearn-color-unfitted-level-3: chocolate;\n",
              "  /* Definition of color scheme for fitted estimators */\n",
              "  --sklearn-color-fitted-level-0: #f0f8ff;\n",
              "  --sklearn-color-fitted-level-1: #d4ebff;\n",
              "  --sklearn-color-fitted-level-2: #b3dbfd;\n",
              "  --sklearn-color-fitted-level-3: cornflowerblue;\n",
              "\n",
              "  /* Specific color for light theme */\n",
              "  --sklearn-color-text-on-default-background: var(--sg-text-color, var(--theme-code-foreground, var(--jp-content-font-color1, black)));\n",
              "  --sklearn-color-background: var(--sg-background-color, var(--theme-background, var(--jp-layout-color0, white)));\n",
              "  --sklearn-color-border-box: var(--sg-text-color, var(--theme-code-foreground, var(--jp-content-font-color1, black)));\n",
              "  --sklearn-color-icon: #696969;\n",
              "\n",
              "  @media (prefers-color-scheme: dark) {\n",
              "    /* Redefinition of color scheme for dark theme */\n",
              "    --sklearn-color-text-on-default-background: var(--sg-text-color, var(--theme-code-foreground, var(--jp-content-font-color1, white)));\n",
              "    --sklearn-color-background: var(--sg-background-color, var(--theme-background, var(--jp-layout-color0, #111)));\n",
              "    --sklearn-color-border-box: var(--sg-text-color, var(--theme-code-foreground, var(--jp-content-font-color1, white)));\n",
              "    --sklearn-color-icon: #878787;\n",
              "  }\n",
              "}\n",
              "\n",
              "#sk-container-id-3 {\n",
              "  color: var(--sklearn-color-text);\n",
              "}\n",
              "\n",
              "#sk-container-id-3 pre {\n",
              "  padding: 0;\n",
              "}\n",
              "\n",
              "#sk-container-id-3 input.sk-hidden--visually {\n",
              "  border: 0;\n",
              "  clip: rect(1px 1px 1px 1px);\n",
              "  clip: rect(1px, 1px, 1px, 1px);\n",
              "  height: 1px;\n",
              "  margin: -1px;\n",
              "  overflow: hidden;\n",
              "  padding: 0;\n",
              "  position: absolute;\n",
              "  width: 1px;\n",
              "}\n",
              "\n",
              "#sk-container-id-3 div.sk-dashed-wrapped {\n",
              "  border: 1px dashed var(--sklearn-color-line);\n",
              "  margin: 0 0.4em 0.5em 0.4em;\n",
              "  box-sizing: border-box;\n",
              "  padding-bottom: 0.4em;\n",
              "  background-color: var(--sklearn-color-background);\n",
              "}\n",
              "\n",
              "#sk-container-id-3 div.sk-container {\n",
              "  /* jupyter's `normalize.less` sets `[hidden] { display: none; }`\n",
              "     but bootstrap.min.css set `[hidden] { display: none !important; }`\n",
              "     so we also need the `!important` here to be able to override the\n",
              "     default hidden behavior on the sphinx rendered scikit-learn.org.\n",
              "     See: https://github.com/scikit-learn/scikit-learn/issues/21755 */\n",
              "  display: inline-block !important;\n",
              "  position: relative;\n",
              "}\n",
              "\n",
              "#sk-container-id-3 div.sk-text-repr-fallback {\n",
              "  display: none;\n",
              "}\n",
              "\n",
              "div.sk-parallel-item,\n",
              "div.sk-serial,\n",
              "div.sk-item {\n",
              "  /* draw centered vertical line to link estimators */\n",
              "  background-image: linear-gradient(var(--sklearn-color-text-on-default-background), var(--sklearn-color-text-on-default-background));\n",
              "  background-size: 2px 100%;\n",
              "  background-repeat: no-repeat;\n",
              "  background-position: center center;\n",
              "}\n",
              "\n",
              "/* Parallel-specific style estimator block */\n",
              "\n",
              "#sk-container-id-3 div.sk-parallel-item::after {\n",
              "  content: \"\";\n",
              "  width: 100%;\n",
              "  border-bottom: 2px solid var(--sklearn-color-text-on-default-background);\n",
              "  flex-grow: 1;\n",
              "}\n",
              "\n",
              "#sk-container-id-3 div.sk-parallel {\n",
              "  display: flex;\n",
              "  align-items: stretch;\n",
              "  justify-content: center;\n",
              "  background-color: var(--sklearn-color-background);\n",
              "  position: relative;\n",
              "}\n",
              "\n",
              "#sk-container-id-3 div.sk-parallel-item {\n",
              "  display: flex;\n",
              "  flex-direction: column;\n",
              "}\n",
              "\n",
              "#sk-container-id-3 div.sk-parallel-item:first-child::after {\n",
              "  align-self: flex-end;\n",
              "  width: 50%;\n",
              "}\n",
              "\n",
              "#sk-container-id-3 div.sk-parallel-item:last-child::after {\n",
              "  align-self: flex-start;\n",
              "  width: 50%;\n",
              "}\n",
              "\n",
              "#sk-container-id-3 div.sk-parallel-item:only-child::after {\n",
              "  width: 0;\n",
              "}\n",
              "\n",
              "/* Serial-specific style estimator block */\n",
              "\n",
              "#sk-container-id-3 div.sk-serial {\n",
              "  display: flex;\n",
              "  flex-direction: column;\n",
              "  align-items: center;\n",
              "  background-color: var(--sklearn-color-background);\n",
              "  padding-right: 1em;\n",
              "  padding-left: 1em;\n",
              "}\n",
              "\n",
              "\n",
              "/* Toggleable style: style used for estimator/Pipeline/ColumnTransformer box that is\n",
              "clickable and can be expanded/collapsed.\n",
              "- Pipeline and ColumnTransformer use this feature and define the default style\n",
              "- Estimators will overwrite some part of the style using the `sk-estimator` class\n",
              "*/\n",
              "\n",
              "/* Pipeline and ColumnTransformer style (default) */\n",
              "\n",
              "#sk-container-id-3 div.sk-toggleable {\n",
              "  /* Default theme specific background. It is overwritten whether we have a\n",
              "  specific estimator or a Pipeline/ColumnTransformer */\n",
              "  background-color: var(--sklearn-color-background);\n",
              "}\n",
              "\n",
              "/* Toggleable label */\n",
              "#sk-container-id-3 label.sk-toggleable__label {\n",
              "  cursor: pointer;\n",
              "  display: flex;\n",
              "  width: 100%;\n",
              "  margin-bottom: 0;\n",
              "  padding: 0.5em;\n",
              "  box-sizing: border-box;\n",
              "  text-align: center;\n",
              "  align-items: start;\n",
              "  justify-content: space-between;\n",
              "  gap: 0.5em;\n",
              "}\n",
              "\n",
              "#sk-container-id-3 label.sk-toggleable__label .caption {\n",
              "  font-size: 0.6rem;\n",
              "  font-weight: lighter;\n",
              "  color: var(--sklearn-color-text-muted);\n",
              "}\n",
              "\n",
              "#sk-container-id-3 label.sk-toggleable__label-arrow:before {\n",
              "  /* Arrow on the left of the label */\n",
              "  content: \"▸\";\n",
              "  float: left;\n",
              "  margin-right: 0.25em;\n",
              "  color: var(--sklearn-color-icon);\n",
              "}\n",
              "\n",
              "#sk-container-id-3 label.sk-toggleable__label-arrow:hover:before {\n",
              "  color: var(--sklearn-color-text);\n",
              "}\n",
              "\n",
              "/* Toggleable content - dropdown */\n",
              "\n",
              "#sk-container-id-3 div.sk-toggleable__content {\n",
              "  max-height: 0;\n",
              "  max-width: 0;\n",
              "  overflow: hidden;\n",
              "  text-align: left;\n",
              "  /* unfitted */\n",
              "  background-color: var(--sklearn-color-unfitted-level-0);\n",
              "}\n",
              "\n",
              "#sk-container-id-3 div.sk-toggleable__content.fitted {\n",
              "  /* fitted */\n",
              "  background-color: var(--sklearn-color-fitted-level-0);\n",
              "}\n",
              "\n",
              "#sk-container-id-3 div.sk-toggleable__content pre {\n",
              "  margin: 0.2em;\n",
              "  border-radius: 0.25em;\n",
              "  color: var(--sklearn-color-text);\n",
              "  /* unfitted */\n",
              "  background-color: var(--sklearn-color-unfitted-level-0);\n",
              "}\n",
              "\n",
              "#sk-container-id-3 div.sk-toggleable__content.fitted pre {\n",
              "  /* unfitted */\n",
              "  background-color: var(--sklearn-color-fitted-level-0);\n",
              "}\n",
              "\n",
              "#sk-container-id-3 input.sk-toggleable__control:checked~div.sk-toggleable__content {\n",
              "  /* Expand drop-down */\n",
              "  max-height: 200px;\n",
              "  max-width: 100%;\n",
              "  overflow: auto;\n",
              "}\n",
              "\n",
              "#sk-container-id-3 input.sk-toggleable__control:checked~label.sk-toggleable__label-arrow:before {\n",
              "  content: \"▾\";\n",
              "}\n",
              "\n",
              "/* Pipeline/ColumnTransformer-specific style */\n",
              "\n",
              "#sk-container-id-3 div.sk-label input.sk-toggleable__control:checked~label.sk-toggleable__label {\n",
              "  color: var(--sklearn-color-text);\n",
              "  background-color: var(--sklearn-color-unfitted-level-2);\n",
              "}\n",
              "\n",
              "#sk-container-id-3 div.sk-label.fitted input.sk-toggleable__control:checked~label.sk-toggleable__label {\n",
              "  background-color: var(--sklearn-color-fitted-level-2);\n",
              "}\n",
              "\n",
              "/* Estimator-specific style */\n",
              "\n",
              "/* Colorize estimator box */\n",
              "#sk-container-id-3 div.sk-estimator input.sk-toggleable__control:checked~label.sk-toggleable__label {\n",
              "  /* unfitted */\n",
              "  background-color: var(--sklearn-color-unfitted-level-2);\n",
              "}\n",
              "\n",
              "#sk-container-id-3 div.sk-estimator.fitted input.sk-toggleable__control:checked~label.sk-toggleable__label {\n",
              "  /* fitted */\n",
              "  background-color: var(--sklearn-color-fitted-level-2);\n",
              "}\n",
              "\n",
              "#sk-container-id-3 div.sk-label label.sk-toggleable__label,\n",
              "#sk-container-id-3 div.sk-label label {\n",
              "  /* The background is the default theme color */\n",
              "  color: var(--sklearn-color-text-on-default-background);\n",
              "}\n",
              "\n",
              "/* On hover, darken the color of the background */\n",
              "#sk-container-id-3 div.sk-label:hover label.sk-toggleable__label {\n",
              "  color: var(--sklearn-color-text);\n",
              "  background-color: var(--sklearn-color-unfitted-level-2);\n",
              "}\n",
              "\n",
              "/* Label box, darken color on hover, fitted */\n",
              "#sk-container-id-3 div.sk-label.fitted:hover label.sk-toggleable__label.fitted {\n",
              "  color: var(--sklearn-color-text);\n",
              "  background-color: var(--sklearn-color-fitted-level-2);\n",
              "}\n",
              "\n",
              "/* Estimator label */\n",
              "\n",
              "#sk-container-id-3 div.sk-label label {\n",
              "  font-family: monospace;\n",
              "  font-weight: bold;\n",
              "  display: inline-block;\n",
              "  line-height: 1.2em;\n",
              "}\n",
              "\n",
              "#sk-container-id-3 div.sk-label-container {\n",
              "  text-align: center;\n",
              "}\n",
              "\n",
              "/* Estimator-specific */\n",
              "#sk-container-id-3 div.sk-estimator {\n",
              "  font-family: monospace;\n",
              "  border: 1px dotted var(--sklearn-color-border-box);\n",
              "  border-radius: 0.25em;\n",
              "  box-sizing: border-box;\n",
              "  margin-bottom: 0.5em;\n",
              "  /* unfitted */\n",
              "  background-color: var(--sklearn-color-unfitted-level-0);\n",
              "}\n",
              "\n",
              "#sk-container-id-3 div.sk-estimator.fitted {\n",
              "  /* fitted */\n",
              "  background-color: var(--sklearn-color-fitted-level-0);\n",
              "}\n",
              "\n",
              "/* on hover */\n",
              "#sk-container-id-3 div.sk-estimator:hover {\n",
              "  /* unfitted */\n",
              "  background-color: var(--sklearn-color-unfitted-level-2);\n",
              "}\n",
              "\n",
              "#sk-container-id-3 div.sk-estimator.fitted:hover {\n",
              "  /* fitted */\n",
              "  background-color: var(--sklearn-color-fitted-level-2);\n",
              "}\n",
              "\n",
              "/* Specification for estimator info (e.g. \"i\" and \"?\") */\n",
              "\n",
              "/* Common style for \"i\" and \"?\" */\n",
              "\n",
              ".sk-estimator-doc-link,\n",
              "a:link.sk-estimator-doc-link,\n",
              "a:visited.sk-estimator-doc-link {\n",
              "  float: right;\n",
              "  font-size: smaller;\n",
              "  line-height: 1em;\n",
              "  font-family: monospace;\n",
              "  background-color: var(--sklearn-color-background);\n",
              "  border-radius: 1em;\n",
              "  height: 1em;\n",
              "  width: 1em;\n",
              "  text-decoration: none !important;\n",
              "  margin-left: 0.5em;\n",
              "  text-align: center;\n",
              "  /* unfitted */\n",
              "  border: var(--sklearn-color-unfitted-level-1) 1pt solid;\n",
              "  color: var(--sklearn-color-unfitted-level-1);\n",
              "}\n",
              "\n",
              ".sk-estimator-doc-link.fitted,\n",
              "a:link.sk-estimator-doc-link.fitted,\n",
              "a:visited.sk-estimator-doc-link.fitted {\n",
              "  /* fitted */\n",
              "  border: var(--sklearn-color-fitted-level-1) 1pt solid;\n",
              "  color: var(--sklearn-color-fitted-level-1);\n",
              "}\n",
              "\n",
              "/* On hover */\n",
              "div.sk-estimator:hover .sk-estimator-doc-link:hover,\n",
              ".sk-estimator-doc-link:hover,\n",
              "div.sk-label-container:hover .sk-estimator-doc-link:hover,\n",
              ".sk-estimator-doc-link:hover {\n",
              "  /* unfitted */\n",
              "  background-color: var(--sklearn-color-unfitted-level-3);\n",
              "  color: var(--sklearn-color-background);\n",
              "  text-decoration: none;\n",
              "}\n",
              "\n",
              "div.sk-estimator.fitted:hover .sk-estimator-doc-link.fitted:hover,\n",
              ".sk-estimator-doc-link.fitted:hover,\n",
              "div.sk-label-container:hover .sk-estimator-doc-link.fitted:hover,\n",
              ".sk-estimator-doc-link.fitted:hover {\n",
              "  /* fitted */\n",
              "  background-color: var(--sklearn-color-fitted-level-3);\n",
              "  color: var(--sklearn-color-background);\n",
              "  text-decoration: none;\n",
              "}\n",
              "\n",
              "/* Span, style for the box shown on hovering the info icon */\n",
              ".sk-estimator-doc-link span {\n",
              "  display: none;\n",
              "  z-index: 9999;\n",
              "  position: relative;\n",
              "  font-weight: normal;\n",
              "  right: .2ex;\n",
              "  padding: .5ex;\n",
              "  margin: .5ex;\n",
              "  width: min-content;\n",
              "  min-width: 20ex;\n",
              "  max-width: 50ex;\n",
              "  color: var(--sklearn-color-text);\n",
              "  box-shadow: 2pt 2pt 4pt #999;\n",
              "  /* unfitted */\n",
              "  background: var(--sklearn-color-unfitted-level-0);\n",
              "  border: .5pt solid var(--sklearn-color-unfitted-level-3);\n",
              "}\n",
              "\n",
              ".sk-estimator-doc-link.fitted span {\n",
              "  /* fitted */\n",
              "  background: var(--sklearn-color-fitted-level-0);\n",
              "  border: var(--sklearn-color-fitted-level-3);\n",
              "}\n",
              "\n",
              ".sk-estimator-doc-link:hover span {\n",
              "  display: block;\n",
              "}\n",
              "\n",
              "/* \"?\"-specific style due to the `<a>` HTML tag */\n",
              "\n",
              "#sk-container-id-3 a.estimator_doc_link {\n",
              "  float: right;\n",
              "  font-size: 1rem;\n",
              "  line-height: 1em;\n",
              "  font-family: monospace;\n",
              "  background-color: var(--sklearn-color-background);\n",
              "  border-radius: 1rem;\n",
              "  height: 1rem;\n",
              "  width: 1rem;\n",
              "  text-decoration: none;\n",
              "  /* unfitted */\n",
              "  color: var(--sklearn-color-unfitted-level-1);\n",
              "  border: var(--sklearn-color-unfitted-level-1) 1pt solid;\n",
              "}\n",
              "\n",
              "#sk-container-id-3 a.estimator_doc_link.fitted {\n",
              "  /* fitted */\n",
              "  border: var(--sklearn-color-fitted-level-1) 1pt solid;\n",
              "  color: var(--sklearn-color-fitted-level-1);\n",
              "}\n",
              "\n",
              "/* On hover */\n",
              "#sk-container-id-3 a.estimator_doc_link:hover {\n",
              "  /* unfitted */\n",
              "  background-color: var(--sklearn-color-unfitted-level-3);\n",
              "  color: var(--sklearn-color-background);\n",
              "  text-decoration: none;\n",
              "}\n",
              "\n",
              "#sk-container-id-3 a.estimator_doc_link.fitted:hover {\n",
              "  /* fitted */\n",
              "  background-color: var(--sklearn-color-fitted-level-3);\n",
              "}\n",
              "</style><div id=\"sk-container-id-3\" class=\"sk-top-container\"><div class=\"sk-text-repr-fallback\"><pre>MLPClassifier(hidden_layer_sizes=(5,), max_iter=1000, random_state=42)</pre><b>In a Jupyter environment, please rerun this cell to show the HTML representation or trust the notebook. <br />On GitHub, the HTML representation is unable to render, please try loading this page with nbviewer.org.</b></div><div class=\"sk-container\" hidden><div class=\"sk-item\"><div class=\"sk-estimator fitted sk-toggleable\"><input class=\"sk-toggleable__control sk-hidden--visually\" id=\"sk-estimator-id-3\" type=\"checkbox\" checked><label for=\"sk-estimator-id-3\" class=\"sk-toggleable__label fitted sk-toggleable__label-arrow\"><div><div>MLPClassifier</div></div><div><a class=\"sk-estimator-doc-link fitted\" rel=\"noreferrer\" target=\"_blank\" href=\"https://scikit-learn.org/1.6/modules/generated/sklearn.neural_network.MLPClassifier.html\">?<span>Documentation for MLPClassifier</span></a><span class=\"sk-estimator-doc-link fitted\">i<span>Fitted</span></span></div></label><div class=\"sk-toggleable__content fitted\"><pre>MLPClassifier(hidden_layer_sizes=(5,), max_iter=1000, random_state=42)</pre></div> </div></div></div></div>"
            ]
          },
          "metadata": {},
          "execution_count": 33
        }
      ]
    },
    {
      "cell_type": "markdown",
      "source": [
        "**Step 6**: Predict and evaluate the model\n",
        "\n",
        "<br>\n",
        "The model has been fit (or trained), so it can now be used to predict classes based on inputs.\n",
        "\n"
      ],
      "metadata": {
        "id": "y8kxxVolZdss"
      }
    },
    {
      "cell_type": "code",
      "source": [
        "# Make predictions on the test set\n",
        "y_pred = clf.predict(X_test)\n",
        "\n",
        "# Evaluate the model's performance\n",
        "accuracy = accuracy_score(y_test, y_pred)\n",
        "\n",
        "print(f\"Accuracy: {accuracy * 100:.2f}%\")\n",
        "\n",
        "# Optionally, display the predictions and the true labels\n",
        "print(\"\\nPredictions vs True Labels:\")\n",
        "for pred, true in zip(y_pred, y_test):\n",
        "    print(f\"Predicted: {pred}, True: {true}\")\n"
      ],
      "metadata": {
        "colab": {
          "base_uri": "https://localhost:8080/"
        },
        "id": "gNdKaICUZd6J",
        "outputId": "c49fe443-b165-477e-9706-34b9174af53f"
      },
      "execution_count": null,
      "outputs": [
        {
          "output_type": "stream",
          "name": "stdout",
          "text": [
            "Accuracy: 97.91%\n",
            "\n",
            "Predictions vs True Labels:\n",
            "Predicted: 2, True: 2\n",
            "Predicted: 1, True: 1\n",
            "Predicted: 2, True: 2\n",
            "Predicted: 1, True: 1\n",
            "Predicted: 3, True: 3\n",
            "Predicted: 3, True: 3\n",
            "Predicted: 1, True: 1\n",
            "Predicted: 3, True: 3\n",
            "Predicted: 3, True: 3\n",
            "Predicted: 2, True: 2\n",
            "Predicted: 1, True: 1\n",
            "Predicted: 2, True: 2\n",
            "Predicted: 1, True: 2\n",
            "Predicted: 1, True: 1\n",
            "Predicted: 2, True: 2\n",
            "Predicted: 1, True: 1\n",
            "Predicted: 2, True: 2\n",
            "Predicted: 3, True: 3\n",
            "Predicted: 1, True: 1\n",
            "Predicted: 2, True: 2\n",
            "Predicted: 1, True: 1\n",
            "Predicted: 2, True: 2\n",
            "Predicted: 1, True: 1\n",
            "Predicted: 2, True: 2\n",
            "Predicted: 2, True: 2\n",
            "Predicted: 1, True: 1\n",
            "Predicted: 1, True: 1\n",
            "Predicted: 1, True: 1\n",
            "Predicted: 1, True: 1\n",
            "Predicted: 3, True: 3\n",
            "Predicted: 3, True: 3\n",
            "Predicted: 2, True: 2\n",
            "Predicted: 3, True: 3\n",
            "Predicted: 3, True: 3\n",
            "Predicted: 3, True: 3\n",
            "Predicted: 2, True: 2\n",
            "Predicted: 3, True: 3\n",
            "Predicted: 1, True: 1\n",
            "Predicted: 3, True: 3\n",
            "Predicted: 2, True: 2\n",
            "Predicted: 3, True: 3\n",
            "Predicted: 3, True: 3\n",
            "Predicted: 2, True: 2\n",
            "Predicted: 1, True: 1\n",
            "Predicted: 3, True: 3\n",
            "Predicted: 1, True: 1\n",
            "Predicted: 1, True: 1\n",
            "Predicted: 2, True: 2\n",
            "Predicted: 3, True: 3\n",
            "Predicted: 3, True: 3\n",
            "Predicted: 1, True: 1\n",
            "Predicted: 3, True: 3\n",
            "Predicted: 3, True: 3\n",
            "Predicted: 3, True: 3\n",
            "Predicted: 1, True: 1\n",
            "Predicted: 3, True: 3\n",
            "Predicted: 3, True: 3\n",
            "Predicted: 1, True: 1\n",
            "Predicted: 2, True: 2\n",
            "Predicted: 1, True: 1\n",
            "Predicted: 2, True: 2\n",
            "Predicted: 1, True: 1\n",
            "Predicted: 1, True: 1\n",
            "Predicted: 3, True: 3\n",
            "Predicted: 3, True: 3\n",
            "Predicted: 3, True: 3\n",
            "Predicted: 1, True: 1\n",
            "Predicted: 2, True: 2\n",
            "Predicted: 2, True: 2\n",
            "Predicted: 2, True: 2\n",
            "Predicted: 1, True: 1\n",
            "Predicted: 3, True: 3\n",
            "Predicted: 1, True: 1\n",
            "Predicted: 3, True: 3\n",
            "Predicted: 1, True: 1\n",
            "Predicted: 1, True: 1\n",
            "Predicted: 3, True: 3\n",
            "Predicted: 1, True: 1\n",
            "Predicted: 1, True: 1\n",
            "Predicted: 3, True: 3\n",
            "Predicted: 1, True: 1\n",
            "Predicted: 3, True: 3\n",
            "Predicted: 3, True: 3\n",
            "Predicted: 1, True: 1\n",
            "Predicted: 1, True: 2\n",
            "Predicted: 3, True: 3\n",
            "Predicted: 2, True: 2\n",
            "Predicted: 3, True: 3\n",
            "Predicted: 1, True: 1\n",
            "Predicted: 1, True: 1\n",
            "Predicted: 3, True: 3\n",
            "Predicted: 1, True: 1\n",
            "Predicted: 1, True: 1\n",
            "Predicted: 2, True: 2\n",
            "Predicted: 3, True: 3\n",
            "Predicted: 2, True: 2\n",
            "Predicted: 1, True: 1\n",
            "Predicted: 3, True: 3\n",
            "Predicted: 3, True: 3\n",
            "Predicted: 3, True: 3\n",
            "Predicted: 1, True: 1\n",
            "Predicted: 1, True: 1\n",
            "Predicted: 3, True: 3\n",
            "Predicted: 3, True: 3\n",
            "Predicted: 1, True: 1\n",
            "Predicted: 3, True: 3\n",
            "Predicted: 2, True: 2\n",
            "Predicted: 2, True: 2\n",
            "Predicted: 3, True: 3\n",
            "Predicted: 1, True: 1\n",
            "Predicted: 2, True: 2\n",
            "Predicted: 3, True: 3\n",
            "Predicted: 2, True: 2\n",
            "Predicted: 2, True: 2\n",
            "Predicted: 2, True: 2\n",
            "Predicted: 1, True: 2\n",
            "Predicted: 1, True: 1\n",
            "Predicted: 1, True: 1\n",
            "Predicted: 3, True: 3\n",
            "Predicted: 3, True: 3\n",
            "Predicted: 2, True: 2\n",
            "Predicted: 3, True: 3\n",
            "Predicted: 2, True: 2\n",
            "Predicted: 3, True: 3\n",
            "Predicted: 3, True: 3\n",
            "Predicted: 1, True: 1\n",
            "Predicted: 2, True: 2\n",
            "Predicted: 1, True: 1\n",
            "Predicted: 1, True: 1\n",
            "Predicted: 1, True: 1\n",
            "Predicted: 3, True: 3\n",
            "Predicted: 2, True: 2\n",
            "Predicted: 1, True: 1\n",
            "Predicted: 1, True: 1\n",
            "Predicted: 1, True: 1\n",
            "Predicted: 1, True: 1\n",
            "Predicted: 1, True: 1\n",
            "Predicted: 1, True: 1\n",
            "Predicted: 2, True: 2\n",
            "Predicted: 1, True: 1\n",
            "Predicted: 1, True: 1\n",
            "Predicted: 2, True: 2\n",
            "Predicted: 2, True: 2\n",
            "Predicted: 1, True: 1\n",
            "Predicted: 1, True: 1\n",
            "Predicted: 2, True: 2\n",
            "Predicted: 1, True: 1\n",
            "Predicted: 1, True: 1\n",
            "Predicted: 1, True: 1\n",
            "Predicted: 2, True: 2\n",
            "Predicted: 3, True: 3\n",
            "Predicted: 3, True: 3\n",
            "Predicted: 2, True: 2\n",
            "Predicted: 1, True: 1\n",
            "Predicted: 1, True: 1\n",
            "Predicted: 1, True: 1\n",
            "Predicted: 1, True: 1\n",
            "Predicted: 2, True: 2\n",
            "Predicted: 3, True: 3\n",
            "Predicted: 2, True: 2\n",
            "Predicted: 1, True: 1\n",
            "Predicted: 3, True: 3\n",
            "Predicted: 3, True: 3\n",
            "Predicted: 1, True: 1\n",
            "Predicted: 3, True: 3\n",
            "Predicted: 2, True: 2\n",
            "Predicted: 3, True: 3\n",
            "Predicted: 3, True: 3\n",
            "Predicted: 1, True: 2\n",
            "Predicted: 1, True: 1\n",
            "Predicted: 2, True: 2\n",
            "Predicted: 2, True: 2\n",
            "Predicted: 2, True: 2\n",
            "Predicted: 2, True: 2\n",
            "Predicted: 3, True: 3\n",
            "Predicted: 3, True: 3\n",
            "Predicted: 2, True: 2\n",
            "Predicted: 2, True: 2\n",
            "Predicted: 3, True: 3\n",
            "Predicted: 2, True: 2\n",
            "Predicted: 3, True: 3\n",
            "Predicted: 3, True: 3\n",
            "Predicted: 2, True: 2\n",
            "Predicted: 1, True: 1\n",
            "Predicted: 2, True: 2\n",
            "Predicted: 2, True: 2\n",
            "Predicted: 1, True: 1\n",
            "Predicted: 2, True: 2\n",
            "Predicted: 1, True: 1\n",
            "Predicted: 2, True: 2\n",
            "Predicted: 1, True: 1\n",
            "Predicted: 1, True: 2\n",
            "Predicted: 1, True: 1\n",
            "Predicted: 2, True: 2\n",
            "Predicted: 2, True: 2\n",
            "Predicted: 2, True: 2\n",
            "Predicted: 1, True: 1\n",
            "Predicted: 1, True: 1\n",
            "Predicted: 1, True: 1\n",
            "Predicted: 1, True: 1\n",
            "Predicted: 3, True: 3\n",
            "Predicted: 1, True: 2\n",
            "Predicted: 3, True: 3\n",
            "Predicted: 1, True: 1\n",
            "Predicted: 3, True: 3\n",
            "Predicted: 3, True: 3\n",
            "Predicted: 3, True: 3\n",
            "Predicted: 1, True: 1\n",
            "Predicted: 3, True: 3\n",
            "Predicted: 2, True: 2\n",
            "Predicted: 2, True: 2\n",
            "Predicted: 2, True: 2\n",
            "Predicted: 2, True: 2\n",
            "Predicted: 3, True: 3\n",
            "Predicted: 1, True: 1\n",
            "Predicted: 2, True: 2\n",
            "Predicted: 1, True: 1\n",
            "Predicted: 1, True: 1\n",
            "Predicted: 2, True: 2\n",
            "Predicted: 2, True: 2\n",
            "Predicted: 3, True: 3\n",
            "Predicted: 2, True: 2\n",
            "Predicted: 1, True: 1\n",
            "Predicted: 3, True: 3\n",
            "Predicted: 3, True: 3\n",
            "Predicted: 1, True: 1\n",
            "Predicted: 2, True: 2\n",
            "Predicted: 1, True: 1\n",
            "Predicted: 2, True: 2\n",
            "Predicted: 1, True: 1\n",
            "Predicted: 2, True: 2\n",
            "Predicted: 3, True: 3\n",
            "Predicted: 2, True: 2\n",
            "Predicted: 1, True: 1\n",
            "Predicted: 2, True: 2\n",
            "Predicted: 1, True: 1\n",
            "Predicted: 3, True: 3\n",
            "Predicted: 2, True: 2\n",
            "Predicted: 3, True: 3\n",
            "Predicted: 3, True: 3\n",
            "Predicted: 3, True: 3\n",
            "Predicted: 1, True: 1\n",
            "Predicted: 1, True: 1\n",
            "Predicted: 1, True: 1\n",
            "Predicted: 3, True: 3\n",
            "Predicted: 2, True: 2\n",
            "Predicted: 2, True: 2\n",
            "Predicted: 2, True: 2\n",
            "Predicted: 2, True: 2\n",
            "Predicted: 3, True: 3\n",
            "Predicted: 3, True: 3\n",
            "Predicted: 3, True: 3\n",
            "Predicted: 3, True: 3\n",
            "Predicted: 1, True: 1\n",
            "Predicted: 3, True: 3\n",
            "Predicted: 2, True: 2\n",
            "Predicted: 3, True: 3\n",
            "Predicted: 1, True: 1\n",
            "Predicted: 3, True: 3\n",
            "Predicted: 1, True: 1\n",
            "Predicted: 3, True: 3\n",
            "Predicted: 1, True: 1\n",
            "Predicted: 1, True: 1\n",
            "Predicted: 1, True: 1\n",
            "Predicted: 2, True: 2\n",
            "Predicted: 1, True: 1\n",
            "Predicted: 1, True: 1\n",
            "Predicted: 1, True: 1\n",
            "Predicted: 2, True: 2\n",
            "Predicted: 1, True: 1\n",
            "Predicted: 2, True: 2\n",
            "Predicted: 2, True: 2\n",
            "Predicted: 2, True: 2\n",
            "Predicted: 1, True: 1\n",
            "Predicted: 1, True: 1\n",
            "Predicted: 1, True: 1\n",
            "Predicted: 3, True: 3\n",
            "Predicted: 2, True: 2\n",
            "Predicted: 1, True: 1\n",
            "Predicted: 3, True: 3\n",
            "Predicted: 3, True: 3\n",
            "Predicted: 2, True: 2\n",
            "Predicted: 1, True: 1\n",
            "Predicted: 1, True: 1\n",
            "Predicted: 1, True: 1\n",
            "Predicted: 2, True: 2\n",
            "Predicted: 2, True: 2\n"
          ]
        }
      ]
    },
    {
      "cell_type": "markdown",
      "source": [
        "\n",
        "Input values can also be manually tested."
      ],
      "metadata": {
        "id": "FjM8I3cxSHnj"
      }
    },
    {
      "cell_type": "code",
      "source": [
        "# test manually with values from each class\n",
        "\n",
        "wInput = 55\n",
        "lInput = 46\n",
        "gainInput = 2.058\n",
        "pred = clf.predict([[wInput, lInput, gainInput]])\n",
        "print(pred) #predicts class 1, or 1.5 GHz\n",
        "\n",
        "wInput = 32\n",
        "lInput = 29\n",
        "gainInput = 3.4\n",
        "pred = clf.predict([[wInput, lInput, gainInput]])\n",
        "print(pred) #predicts class 2, or 2.4 GHz\n",
        "\n",
        "wInput = 14\n",
        "lInput = 12\n",
        "gainInput = 4.7\n",
        "pred = clf.predict([[wInput, lInput, gainInput]])\n",
        "print(pred) #predicts class 3, or 5.8 GHz\n",
        "\n"
      ],
      "metadata": {
        "colab": {
          "base_uri": "https://localhost:8080/"
        },
        "id": "3sFD7mqjAHVC",
        "outputId": "dd19ba37-4e46-428b-ddf8-a324654c6b92"
      },
      "execution_count": null,
      "outputs": [
        {
          "output_type": "stream",
          "name": "stdout",
          "text": [
            "[1]\n",
            "[2]\n",
            "[3]\n"
          ]
        }
      ]
    },
    {
      "cell_type": "markdown",
      "source": [
        "In the cells below are two examples of how to validate a model's performance. Validating a machine learning model is crucial to ensure its performance and generalization ability.\n",
        "\n",
        "Simple accuracy will tell you how well your model performs, but does not provide the whole picture. In this case, because there are only a few classes (3), we can use a confusion matrix to view how classes were positively or negatively predicted.\n",
        "\n",
        "A confusion matrix is a table often used to describe the performance of a classification model on a set of test data for which the true values are known. It allows visualization of the performance, particularly in terms of binary classification, where there are few possible classes.\n",
        "\n",
        "In a confusion matrix:\n",
        "\n",
        "* Each row represents the instances in a predicted class.\n",
        "* Each column represents the instances in an actual class (or vice versa)\n",
        "\n",
        "In our example, with three classes, the matrix would resemble the following:\n",
        "\n",
        "```\n",
        "                   Actual Class 0   Actual Class 1   Actual Class 2\n",
        "Predicted Class 0        TN_0              FP_0              FP_0\n",
        "Predicted Class 1        FN_1              TP_1              FP_1\n",
        "Predicted Class 2        FN_2              FN_2              TP_2\n",
        "\n",
        "```\n",
        "Where TN, FP, FN, and TP are:\n",
        "* TN (True Negative): The number of correctly predicted negative instances.\n",
        "* FP (False Positive): The number of incorrectly predicted positive instances.\n",
        "* FN (False Negative): The number of incorrectly predicted negative instances.\n",
        "* TP (True Positive): The number of correctly predicted positive instances.\n",
        "\n",
        "\n",
        "The diagonals represent correct predictions for each class, while off-diagonal elements represent misclassifications.\n"
      ],
      "metadata": {
        "id": "VWW7gQhtLIv5"
      }
    },
    {
      "cell_type": "code",
      "source": [
        "# make predictions using the test set\n",
        "y_pred = clf.predict(X_test)\n"
      ],
      "metadata": {
        "id": "VdBbi6-7I-er"
      },
      "execution_count": null,
      "outputs": []
    },
    {
      "cell_type": "code",
      "source": [
        "# Calculate accuracy\n",
        "# * compares the true labels with the predicted labels and returns\n",
        "# the accuracy score, which is the fraction of correctly classified samples\n",
        "accuracy = accuracy_score(y_test, y_pred)\n",
        "print(\"Accuracy:\", accuracy)"
      ],
      "metadata": {
        "colab": {
          "base_uri": "https://localhost:8080/"
        },
        "id": "v6w2oNoYM63v",
        "outputId": "536d1c93-1598-43b2-9ab3-a345a95ebc39"
      },
      "execution_count": null,
      "outputs": [
        {
          "output_type": "stream",
          "name": "stdout",
          "text": [
            "Accuracy: 0.9790940766550522\n"
          ]
        }
      ]
    },
    {
      "cell_type": "code",
      "source": [
        "# Calculate the confusion matrix of predicted vs actual values\n",
        "cm = confusion_matrix(y_test, y_pred)\n",
        "\n",
        "print(\"Confusion Matrix:\")\n",
        "print(cm)\n",
        "\n"
      ],
      "metadata": {
        "colab": {
          "base_uri": "https://localhost:8080/"
        },
        "id": "0lF9BLYMM0Rf",
        "outputId": "23207fda-93e7-4cac-8f69-aa0910d180e6"
      },
      "execution_count": null,
      "outputs": [
        {
          "output_type": "stream",
          "name": "stdout",
          "text": [
            "Confusion Matrix:\n",
            "[[107   0   0]\n",
            " [  6  85   0]\n",
            " [  0   0  89]]\n"
          ]
        }
      ]
    },
    {
      "cell_type": "markdown",
      "source": [
        "**Further Examples**:\n",
        "\n",
        "Using multiple hidden layers and changing the number of neurons.\n",
        "\n",
        "<br>\n",
        "\n",
        "Note that changing the number of layers and the number of neurons has a strong\n",
        "impact on the accuracy.\n",
        "\n",
        "Accuracy under 95% is generally undertrained, while accuracy of 100 is almost always overtrained.\n",
        "\n"
      ],
      "metadata": {
        "id": "e5mZoso0fPLb"
      }
    },
    {
      "cell_type": "code",
      "source": [
        "\n",
        "# Create a neural network classifier (MLP)\n",
        "#  with 3 hidden layers with and 5 neurons, 12 neurons, and 3 neurons\n",
        "clf = MLPClassifier(hidden_layer_sizes=(5, 12, 3), max_iter=1000, random_state=42)\n",
        "\n",
        "\n",
        "# Train the model\n",
        "clf.fit(X_train, y_train)\n",
        "\n",
        "# make predictions on the test set and save it as y+pred\n",
        "y_pred = clf.predict(X_test)\n",
        "\n",
        "# Evaluate the model's performance\n",
        "accuracy = accuracy_score(y_test, y_pred)\n",
        "\n",
        "print(f\"Accuracy: {accuracy * 100:.2f}%\")\n",
        "\n",
        "# # Optionally, display the predictions and the true labels\n",
        "# print(\"\\nPredictions vs True Labels:\")\n",
        "# for pred, true in zip(y_pred, y_test):\n",
        "#     print(f\"Predicted: {pred}, True: {true}\")\n",
        "\n",
        "# Calculate accuracy\n",
        "# * compares the true labels with the predicted labels and returns\n",
        "# the accuracy score, which is the fraction of correctly classified samples\n",
        "accuracy = accuracy_score(y_test, y_pred)\n",
        "print(\"Accuracy:\", accuracy)\n",
        "# Calculate the confusion matrix of predicted vs actual values\n",
        "cm = confusion_matrix(y_test, y_pred)\n",
        "\n",
        "print(\"Confusion Matrix:\")\n",
        "print(cm)\n"
      ],
      "metadata": {
        "colab": {
          "base_uri": "https://localhost:8080/"
        },
        "id": "CPZHFGuBfXMJ",
        "outputId": "823ea360-644b-4769-95a3-df23731e883b"
      },
      "execution_count": null,
      "outputs": [
        {
          "output_type": "stream",
          "name": "stdout",
          "text": [
            "Accuracy: 68.29%\n",
            "Accuracy: 0.6829268292682927\n",
            "Confusion Matrix:\n",
            "[[107   0   0]\n",
            " [  0   0  91]\n",
            " [  0   0  89]]\n"
          ]
        }
      ]
    },
    {
      "cell_type": "code",
      "source": [
        "# Create a neural network classifier (MLP)\n",
        "#  with 3 hidden layers with and 5 neurons, 12 neurons, and 5 neurons\n",
        "clf = MLPClassifier(hidden_layer_sizes=(5, 12, 5), max_iter=1000, random_state=42)\n",
        "\n",
        "\n",
        "# Train the model\n",
        "clf.fit(X_train, y_train)\n",
        "\n",
        "# make predictions on the test set and save it as y+pred\n",
        "y_pred = clf.predict(X_test)\n",
        "\n",
        "# Evaluate the model's performance\n",
        "accuracy = accuracy_score(y_test, y_pred)\n",
        "\n",
        "print(f\"Accuracy: {accuracy * 100:.2f}%\")\n",
        "\n",
        "# # Optionally, display the predictions and the true labels\n",
        "# print(\"\\nPredictions vs True Labels:\")\n",
        "# for pred, true in zip(y_pred, y_test):\n",
        "#     print(f\"Predicted: {pred}, True: {true}\")\n",
        "\n",
        "# Calculate accuracy\n",
        "# * compares the true labels with the predicted labels and returns\n",
        "# the accuracy score, which is the fraction of correctly classified samples\n",
        "accuracy = accuracy_score(y_test, y_pred)\n",
        "print(\"Accuracy:\", accuracy)\n",
        "# Calculate the confusion matrix of predicted vs actual values\n",
        "cm = confusion_matrix(y_test, y_pred)\n",
        "\n",
        "print(\"Confusion Matrix:\")\n",
        "print(cm)\n"
      ],
      "metadata": {
        "colab": {
          "base_uri": "https://localhost:8080/"
        },
        "id": "vOImg2RYhwJU",
        "outputId": "0fc19241-3e12-4cb1-ec1d-14440edc1bda"
      },
      "execution_count": null,
      "outputs": [
        {
          "output_type": "stream",
          "name": "stdout",
          "text": [
            "Accuracy: 100.00%\n",
            "Accuracy: 1.0\n",
            "Confusion Matrix:\n",
            "[[107   0   0]\n",
            " [  0  91   0]\n",
            " [  0   0  89]]\n"
          ]
        },
        {
          "output_type": "stream",
          "name": "stderr",
          "text": [
            "/usr/local/lib/python3.10/dist-packages/sklearn/neural_network/_multilayer_perceptron.py:691: ConvergenceWarning: Stochastic Optimizer: Maximum iterations (1000) reached and the optimization hasn't converged yet.\n",
            "  warnings.warn(\n"
          ]
        }
      ]
    },
    {
      "cell_type": "code",
      "source": [
        "# Create a neural network classifier (MLP)\n",
        "#  with 1 hidden layer with and 12 neurons\n",
        "clf = MLPClassifier(hidden_layer_sizes=(12), max_iter=1000, random_state=42)\n",
        "\n",
        "\n",
        "# Train the model\n",
        "clf.fit(X_train, y_train)\n",
        "\n",
        "# make predictions on the test set and save it as y+pred\n",
        "y_pred = clf.predict(X_test)\n",
        "\n",
        "# Evaluate the model's performance\n",
        "accuracy = accuracy_score(y_test, y_pred)\n",
        "\n",
        "print(f\"Accuracy: {accuracy * 100:.2f}%\")\n",
        "\n",
        "# # Optionally, display the predictions and the true labels\n",
        "# print(\"\\nPredictions vs True Labels:\")\n",
        "# for pred, true in zip(y_pred, y_test):\n",
        "#     print(f\"Predicted: {pred}, True: {true}\")\n",
        "\n",
        "# Calculate accuracy\n",
        "# * compares the true labels with the predicted labels and returns\n",
        "# the accuracy score, which is the fraction of correctly classified samples\n",
        "accuracy = accuracy_score(y_test, y_pred)\n",
        "print(\"Accuracy:\", accuracy)\n",
        "# Calculate the confusion matrix of predicted vs actual values\n",
        "cm = confusion_matrix(y_test, y_pred)\n",
        "\n",
        "print(\"Confusion Matrix:\")\n",
        "print(cm)\n"
      ],
      "metadata": {
        "colab": {
          "base_uri": "https://localhost:8080/"
        },
        "id": "HmFdtLJeh33I",
        "outputId": "93827291-088d-46f9-f08f-d7da9cbe477b"
      },
      "execution_count": null,
      "outputs": [
        {
          "output_type": "stream",
          "name": "stdout",
          "text": [
            "Accuracy: 100.00%\n",
            "Accuracy: 1.0\n",
            "Confusion Matrix:\n",
            "[[107   0   0]\n",
            " [  0  91   0]\n",
            " [  0   0  89]]\n"
          ]
        }
      ]
    }
  ]
}